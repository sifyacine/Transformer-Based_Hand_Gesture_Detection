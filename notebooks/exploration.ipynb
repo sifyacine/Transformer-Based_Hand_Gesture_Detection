{
 "cells": [
  {
   "cell_type": "code",
   "execution_count": null,
   "metadata": {},
   "outputs": [],
   "source": [
    "# Import necessary modules\n",
    "import sys\n",
    "sys.path.append(\"../scripts\")  # Add scripts directory to the Python path\n",
    "\n",
    "from data_loader import load_processed_data\n",
    "from visualization import visualize_sample, visualize_label_distribution, visualize_multiple_samples\n",
    "\n",
    "# Load processed data\n",
    "processed_dir = \"../data/processed/\"\n",
    "data = load_processed_data(processed_dir)\n",
    "\n",
    "X_train, y_train = data[\"train\"]\n",
    "X_val, y_val = data[\"val\"]\n",
    "X_test, y_test = data[\"test\"]\n",
    "\n",
    "# Visualize label distribution\n",
    "visualize_label_distribution(y_train, y_val, y_test)\n",
    "\n",
    "# Visualize a single sample\n",
    "visualize_sample(X_train, y_train, sample_idx=0)\n",
    "\n",
    "# Visualize multiple samples\n",
    "visualize_multiple_samples(X_train, num_windows_to_plot=5)"
   ]
  }
 ],
 "metadata": {
  "kernelspec": {
   "display_name": "Python 3",
   "language": "python",
   "name": "python3"
  },
  "language_info": {
   "codemirror_mode": {
    "name": "ipython",
    "version": 3
   },
   "file_extension": ".py",
   "mimetype": "text/x-python",
   "name": "python",
   "nbconvert_exporter": "python",
   "pygments_lexer": "ipython3",
   "version": "3.13.0"
  }
 },
 "nbformat": 4,
 "nbformat_minor": 2
}
